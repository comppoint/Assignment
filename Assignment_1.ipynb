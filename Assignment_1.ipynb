{
 "cells": [
  {
   "cell_type": "code",
   "execution_count": 1,
   "metadata": {},
   "outputs": [],
   "source": [
    "# 1. In the below elements which of them are values or an expression? eg:- values can be\n",
    "# integer or string and expressions will be mathematical operators.\n",
    "# *\n",
    "# 'hello'\n",
    "# -87.8\n",
    "# -\n",
    "# /\n",
    "# +\n",
    "# 6"
   ]
  },
  {
   "cell_type": "markdown",
   "metadata": {},
   "source": [
    "1) \\* is an operator\n",
    "2) 'Hello' is a string value\n",
    "3) -87.8 is a int value\n",
    "4) \\- is an operator\n",
    "5) / is an operator\n",
    "6) \\+ is an operator\n",
    "7) 6 is a int value"
   ]
  },
  {
   "cell_type": "code",
   "execution_count": 2,
   "metadata": {},
   "outputs": [],
   "source": [
    "# 2. What is the difference between string and variable?"
   ]
  },
  {
   "cell_type": "markdown",
   "metadata": {},
   "source": [
    "Difference between string and variable\n",
    "## String\n",
    "- String is one of the Data type used by python line (int, double, etc.)\n",
    "- String is a data type which can store double quotes to declare data.\n",
    "- String include all types of char data\n",
    "## Variable\n",
    "- Variable is identified for data, we use in python\n",
    "- Variables are used for data manipulation or to preform operations on data stored in a variable\n",
    "- In python variables can be assign using = sign eg. Data = 1234, where data is variable and 1234 is value stored in data variables"
   ]
  },
  {
   "cell_type": "code",
   "execution_count": 3,
   "metadata": {},
   "outputs": [],
   "source": [
    "# 3. Describe three different data types."
   ]
  },
  {
   "cell_type": "markdown",
   "metadata": {},
   "source": [
    "#data types in python\n",
    "their are many types of data is present in python, main types of data are\n",
    "- string, int, double, Boolean\n",
    "- String data type: This data type is use to store Text data\n",
    "- Int data type: This data type is use to store numerial values\n",
    "- Double data type: This is use to store decimal values\n",
    "- Complex data type: This data type is use to store complex no in python"
   ]
  },
  {
   "cell_type": "code",
   "execution_count": 4,
   "metadata": {},
   "outputs": [],
   "source": [
    "# 4. What is an expression made up of? What do all expressions do?"
   ]
  },
  {
   "cell_type": "markdown",
   "metadata": {},
   "source": [
    "Python exprestion are use to perform operesion or data manupulation\n",
    "In python their are many operators are present line (+,-,*,/,etc)\n",
    "\n",
    "## List of Expresions\n",
    "- \\+ : Addition operator\n",
    "- \\- : Subtraction Operator\n",
    "- \\* : Multiplication operator\n",
    "- / : Division operator\n",
    "- % : Remainder operator\n",
    "- == : Equal to operator\n",
    "- != : Not equal to operator\n",
    "- \\> : Greater than operator\n",
    "- < : Less than operator\n",
    "- \\>= : Greater than and equal to operator\n",
    "- <= : Less than and equal to operator\n",
    "- ** : power operator"
   ]
  },
  {
   "cell_type": "code",
   "execution_count": 5,
   "metadata": {},
   "outputs": [],
   "source": [
    "# 5. This assignment statements, like spam = 10. What is the difference between an expression and a statement?"
   ]
  },
  {
   "cell_type": "markdown",
   "metadata": {},
   "source": [
    "#### Expresstion\n",
    "- In Python Expression is a line of code which is use to make changes on values store in variable\n",
    "- E.g. a = a+1, hear the veriable a get change\n",
    "- we can print the expression becouse the retun the changes values\n",
    "#### Statement\n",
    "- In python statement are the line of code which do not make any change in value store in variables\n",
    "- e.g. import numpy, In this statement we are importing the numpy module gut we are not making any changes in any stored values\n",
    "- similarly spam = 10 is a statement becouse hear we are storing data value in variable but not changing the value\n",
    "- Statements do not return any values"
   ]
  },
  {
   "cell_type": "code",
   "execution_count": null,
   "metadata": {},
   "outputs": [],
   "source": [
    "# 6. After running the following code, what does the variable bacon contain?\n",
    "# bacon = 22\n",
    "# bacon + 1"
   ]
  },
  {
   "cell_type": "code",
   "execution_count": 7,
   "metadata": {},
   "outputs": [
    {
     "name": "stdout",
     "output_type": "stream",
     "text": [
      "22\n"
     ]
    }
   ],
   "source": [
    "bacon = 22\n",
    "bacon + 1\n",
    "print(bacon)"
   ]
  },
  {
   "cell_type": "markdown",
   "metadata": {},
   "source": [
    "In first line of above code bacon variable contains value 22  \n",
    "In Second line bacon + 1 operatoin is done but it did not assign to any variable so bacon did not change  \n",
    "So bacon will contain value 22"
   ]
  },
  {
   "cell_type": "code",
   "execution_count": null,
   "metadata": {},
   "outputs": [],
   "source": [
    "# 7. What should the values of the following two terms be?\n",
    "# \"spam\" + \"spamspam\"\n",
    "# \"spam\" * 3"
   ]
  },
  {
   "cell_type": "markdown",
   "metadata": {},
   "source": [
    "Value of \"spam\" + \"spamspam\" is \"spamspamspam\"  \n",
    "Value of \"spam\" * 3 is \"spamspamspam\""
   ]
  },
  {
   "cell_type": "code",
   "execution_count": null,
   "metadata": {},
   "outputs": [],
   "source": [
    "# 8. Why is eggs a valid variable name while 100 is invalid?"
   ]
  },
  {
   "cell_type": "markdown",
   "metadata": {},
   "source": [
    "### Rules for Python variable name\n",
    "- Variable should start with latter\n",
    "- Variable can not start with numbers\n",
    "- Variables can er Alpha-numeric\n",
    "\n",
    "So eggs valid variable but 100 is not valid variable"
   ]
  },
  {
   "cell_type": "code",
   "execution_count": 8,
   "metadata": {},
   "outputs": [],
   "source": [
    "# 9. What three functions can be used to get the integer, floating-point number, or string version of a value"
   ]
  },
  {
   "cell_type": "markdown",
   "metadata": {},
   "source": [
    "For Int data we can use int() in python  \n",
    "For floate point data we can use float()  \n",
    "For string data we can use str()  "
   ]
  },
  {
   "cell_type": "markdown",
   "metadata": {},
   "source": [
    "int(5)"
   ]
  },
  {
   "cell_type": "code",
   "execution_count": 9,
   "metadata": {},
   "outputs": [
    {
     "data": {
      "text/plain": [
       "10.0"
      ]
     },
     "execution_count": 9,
     "metadata": {},
     "output_type": "execute_result"
    }
   ],
   "source": [
    "# 10. Why does this expression cause an error? How can you fix it?\n",
    "# 'I have eaten ' + 99 + ' burritos.'"
   ]
  },
  {
   "cell_type": "markdown",
   "metadata": {},
   "source": [
    "Expression 'I have eaten ' + 99 + ' burritos.' will fail with TypeError  \n",
    "Abouve expression is trying to add staing and int data, but in case of staring + operator concatinate 2 string\n",
    "so when we add string and int we get TypeError  \n",
    "To resolve is error we need to rype cast the Int data into string data using str()"
   ]
  },
  {
   "cell_type": "code",
   "execution_count": 11,
   "metadata": {},
   "outputs": [
    {
     "ename": "TypeError",
     "evalue": "can only concatenate str (not \"int\") to str",
     "output_type": "error",
     "traceback": [
      "\u001b[0;31m---------------------------------------------------------------------------\u001b[0m",
      "\u001b[0;31mTypeError\u001b[0m                                 Traceback (most recent call last)",
      "\u001b[0;32m/tmp/ipykernel_21687/1774935878.py\u001b[0m in \u001b[0;36m<module>\u001b[0;34m\u001b[0m\n\u001b[0;32m----> 1\u001b[0;31m \u001b[0;34m'I have eaten '\u001b[0m \u001b[0;34m+\u001b[0m \u001b[0;36m99\u001b[0m \u001b[0;34m+\u001b[0m \u001b[0;34m' burritos.'\u001b[0m\u001b[0;34m\u001b[0m\u001b[0;34m\u001b[0m\u001b[0m\n\u001b[0m",
      "\u001b[0;31mTypeError\u001b[0m: can only concatenate str (not \"int\") to str"
     ]
    }
   ],
   "source": [
    "'I have eaten ' + 99 + ' burritos.'"
   ]
  },
  {
   "cell_type": "code",
   "execution_count": 12,
   "metadata": {},
   "outputs": [
    {
     "data": {
      "text/plain": [
       "'I have eaten 99 burritos.'"
      ]
     },
     "execution_count": 12,
     "metadata": {},
     "output_type": "execute_result"
    }
   ],
   "source": [
    "'I have eaten ' + str(99) + ' burritos.'"
   ]
  }
 ],
 "metadata": {
  "kernelspec": {
   "display_name": "Python 3.9.7 ('base')",
   "language": "python",
   "name": "python3"
  },
  "language_info": {
   "codemirror_mode": {
    "name": "ipython",
    "version": 3
   },
   "file_extension": ".py",
   "mimetype": "text/x-python",
   "name": "python",
   "nbconvert_exporter": "python",
   "pygments_lexer": "ipython3",
   "version": "3.9.7"
  },
  "orig_nbformat": 4,
  "vscode": {
   "interpreter": {
    "hash": "f7dd959b7247feddc79f089274c29efeef93ebd1badcdb854861350ab27e8282"
   }
  }
 },
 "nbformat": 4,
 "nbformat_minor": 2
}
