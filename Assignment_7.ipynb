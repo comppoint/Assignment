{
 "cells": [
  {
   "attachments": {},
   "cell_type": "markdown",
   "metadata": {},
   "source": [
    "# Assignment 7 Solutions  \n",
    "  \n",
    "#### 1. What is the name of the feature responsible for generating Regex objects?\n",
    "**Ans:** **`re.compile()`** is the feature responsible for  generation of Regex objects."
   ]
  },
  {
   "cell_type": "code",
   "execution_count": 5,
   "metadata": {},
   "outputs": [
    {
     "name": "stdout",
     "output_type": "stream",
     "text": [
      "<class 're.Pattern'>\n",
      "re.compile('some_random_pattern')\n"
     ]
    }
   ],
   "source": [
    "import re\n",
    "obj = re.compile(\"some_random_pattern\")\n",
    "print(type(obj))\n",
    "print(obj)"
   ]
  },
  {
   "attachments": {},
   "cell_type": "markdown",
   "metadata": {},
   "source": [
    "#### 2. Why do raw strings often appear in Regex objects?\n",
    "**Ans:** \n",
    "Raw string are sue in regex objects becouse fot backslash `(\\)`, as we know backslash can be treted as escape charactor in python and this can couse many issus while working with regex so row strings are used in Regex objects."
   ]
  },
  {
   "attachments": {},
   "cell_type": "markdown",
   "metadata": {},
   "source": [
    "#### 3. What is the return value of the search() method?\n",
    "**Ans:** The return value of `re.search(pattern,string)` method is a match object if the pattern is present in the string else it returns a None"
   ]
  },
  {
   "cell_type": "code",
   "execution_count": 10,
   "metadata": {},
   "outputs": [
    {
     "name": "stdout",
     "output_type": "stream",
     "text": [
      "Output if pattern matched: <re.Match object; span=(8, 15), match='example'>\n",
      "-------------------------------------\n",
      "Output if pattern did not matched: None\n"
     ]
    }
   ],
   "source": [
    "import re\n",
    "txt = \"this is example code\"\n",
    "obj = re.search(\"example\", txt)\n",
    "print(\"Output if pattern matched: \"+str(obj))\n",
    "print(\"-------------------------------------\")\n",
    "obj = re.search(\"test\", txt)\n",
    "print(\"Output if pattern did not matched: \"+str(obj))\n"
   ]
  },
  {
   "attachments": {},
   "cell_type": "markdown",
   "metadata": {},
   "source": [
    "#### 4. From a Match item, how do you get the actual strings that match the pattern?\n",
    "**Ans:** For Matched items `group()` methods returns actual strings that match the pattern  \n"
   ]
  },
  {
   "cell_type": "code",
   "execution_count": 11,
   "metadata": {},
   "outputs": [
    {
     "name": "stdout",
     "output_type": "stream",
     "text": [
      "Output: test\n"
     ]
    }
   ],
   "source": [
    "import re\n",
    "match = re.search('test','This is a testing code', flags=re.IGNORECASE)\n",
    "print('Output:',match.group())"
   ]
  },
  {
   "attachments": {},
   "cell_type": "markdown",
   "metadata": {},
   "source": [
    "#### 5. In the regex which created from the r'(\\d\\d\\d)-(\\d\\d\\d-\\d\\d\\d\\d)', what does group zero cover? Group 2? Group 1?\n",
    "**Ans:** In the Regex **`r'(\\d\\d\\d)-(\\d\\d\\d-\\d\\d\\d\\d)'`** the zero group use for getting complete maching substring in string, But in case of first group we get **`(\\d\\d\\d)`** part for regex  \n",
    "similarly in the second group we get **`(\\d\\d\\d-\\d\\d\\d\\d)`**"
   ]
  },
  {
   "cell_type": "code",
   "execution_count": 12,
   "metadata": {},
   "outputs": [
    {
     "name": "stdout",
     "output_type": "stream",
     "text": [
      "('123', '456-1221')\n",
      "123-456-1221\n",
      "123\n",
      "456-1221\n"
     ]
    }
   ],
   "source": [
    "# Example\n",
    "import re\n",
    "re_pattern = re.compile(r'(\\d\\d\\d)-(\\d\\d\\d-\\d\\d\\d\\d)')\n",
    "re_obj = re_pattern.search('My number is 123-456-1221.')\n",
    "print(re_obj.groups()) # Prints all groups in a tuple format\n",
    "print(re_obj.group()) # Always returns the fully matched string \n",
    "print(re_obj.group(1)) # Returns the first group\n",
    "print(re_obj.group(2)) # Returns the second group"
   ]
  },
  {
   "attachments": {},
   "cell_type": "markdown",
   "metadata": {},
   "source": [
    "#### 6. In standard expression syntax, parentheses and intervals have distinct meanings. How can you tell a regex that you want it to fit real parentheses and periods?\n",
    "**Ans:** We use re.compile() to tell regex to select parentheses by using escape characters in the raw string  \n",
    "**Example:**  \n",
    "**`\\.`**  \n",
    "**`\\(`**  \n",
    "**`\\)`**"
   ]
  },
  {
   "cell_type": "code",
   "execution_count": 4,
   "metadata": {},
   "outputs": [
    {
     "name": "stdout",
     "output_type": "stream",
     "text": [
      "(17-09-1995).\n"
     ]
    }
   ],
   "source": [
    "# Example\n",
    "import re\n",
    "DOB = re.compile(r'\\(\\d\\d-\\d\\d-\\d\\d\\d\\d\\)\\.')\n",
    "mo = DOB.search('My DOB is (17-09-1995).')\n",
    "print(mo.group())"
   ]
  },
  {
   "attachments": {},
   "cell_type": "markdown",
   "metadata": {},
   "source": [
    "#### 7 The findall() method returns a string list or a list of string tuples. What causes it to return one of the two options?  \n",
    "**Ans:** "
   ]
  },
  {
   "cell_type": "code",
   "execution_count": null,
   "metadata": {},
   "outputs": [],
   "source": []
  }
 ],
 "metadata": {
  "kernelspec": {
   "display_name": "base",
   "language": "python",
   "name": "python3"
  },
  "language_info": {
   "codemirror_mode": {
    "name": "ipython",
    "version": 3
   },
   "file_extension": ".py",
   "mimetype": "text/x-python",
   "name": "python",
   "nbconvert_exporter": "python",
   "pygments_lexer": "ipython3",
   "version": "3.9.7"
  },
  "orig_nbformat": 4,
  "vscode": {
   "interpreter": {
    "hash": "f7dd959b7247feddc79f089274c29efeef93ebd1badcdb854861350ab27e8282"
   }
  }
 },
 "nbformat": 4,
 "nbformat_minor": 2
}
