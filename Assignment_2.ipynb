{
 "cells": [
  {
   "cell_type": "markdown",
   "metadata": {},
   "source": [
    "# Assingment 2"
   ]
  },
  {
   "cell_type": "markdown",
   "metadata": {},
   "source": [
    "#### Q1) 1.What are the two values of the Boolean data type? How do you write them?"
   ]
  },
  {
   "cell_type": "markdown",
   "metadata": {},
   "source": [
    "**Answer:** Their are to boolean data types  \n",
    "* `True` or 1\n",
    "* `False` or 0"
   ]
  },
  {
   "cell_type": "code",
   "execution_count": 18,
   "metadata": {},
   "outputs": [
    {
     "name": "stdout",
     "output_type": "stream",
     "text": [
      "type of data a <class 'bool'>\n",
      "True\n",
      "type of data a <class 'bool'>\n",
      "False\n"
     ]
    }
   ],
   "source": [
    "a = True\n",
    "print(\"type of data a\",type(a))\n",
    "print(a)\n",
    "\n",
    "b = False\n",
    "print(\"type of data a\",type(b))\n",
    "print(b)"
   ]
  },
  {
   "cell_type": "markdown",
   "metadata": {},
   "source": [
    "#### Q2) What are the three different types of Boolean operators?"
   ]
  },
  {
   "cell_type": "markdown",
   "metadata": {},
   "source": [
    "**Answer:** Their are 3 Boolean operators are in python `and`,`or`,`not`"
   ]
  },
  {
   "cell_type": "markdown",
   "metadata": {},
   "source": [
    "#### Q3) Make a list of each Boolean operator's truth tables (i.e. every possible combination of Boolean values for the operator and what it evaluate )."
   ]
  },
  {
   "cell_type": "markdown",
   "metadata": {},
   "source": [
    "**Answer:**  \n",
    "Truth table for `and` operator is:  \n",
    "_True and True is True  \n",
    "True and False is False  \n",
    "False and True is False  \n",
    "False and False is False_  \n",
    "\n",
    "Truth table for `or` operator is:  \n",
    "_True or True is True  \n",
    "True or False is True  \n",
    "False or True is True  \n",
    "False or False is False_\n",
    "\n",
    "Truth table for `not` operator is:  \n",
    "_not True is False  \n",
    "not False is True_"
   ]
  },
  {
   "cell_type": "markdown",
   "metadata": {},
   "source": [
    "#### Q4) What are the values of the following expressions?\n",
    "* (5 &gt; 4) and (3 == 5)\n",
    "* not (5 &gt; 4)\n",
    "* (5 &gt; 4) or (3 == 5)\n",
    "* not ((5 &gt; 4) or (3 == 5))\n",
    "* (True and True) and (True == False)\n",
    "* (not False) or (not True)"
   ]
  },
  {
   "cell_type": "code",
   "execution_count": 19,
   "metadata": {},
   "outputs": [
    {
     "name": "stdout",
     "output_type": "stream",
     "text": [
      "False\n",
      "False\n",
      "True\n",
      "False\n",
      "False\n",
      "True\n"
     ]
    }
   ],
   "source": [
    "print((5 > 4) and (3 == 5))\n",
    "print(not(5>4))\n",
    "print((5 > 4) or (3 == 5))\n",
    "print(not ((5 > 4) or (3 == 5)))\n",
    "print((True and True) and (True == False))\n",
    "print((not False) or (not True))"
   ]
  },
  {
   "cell_type": "markdown",
   "metadata": {},
   "source": [
    "#### Q5) What are the six comparison operators?\n",
    "**Answer:** Python contains following comparison operators  \n",
    "* `==` Compare equal\n",
    "* `!=` Compare not equal\n",
    "* `>` Greater than\n",
    "* `<` Less than\n",
    "* `>=` Compare Greater than and equal to\n",
    "* `<=` Compare Less than and equal to"
   ]
  },
  {
   "cell_type": "markdown",
   "metadata": {},
   "source": [
    "#### Q6) How do you tell the difference between the equal to and assignment operators? Describe a condition and when you would use one.\n",
    "**Answer:** In ptrhon `==` operator is use to compare 2 values are same or not, But `=` is use to assing data to variable.  \n",
    "E.g: \n",
    "* If we run `a == b` this exprestion means we are comparing value in variable a and b, if values in a and b is same then we get True else False\n",
    "* If we run statement `a = 10` we are assigning value 10 to veriable a"
   ]
  },
  {
   "cell_type": "code",
   "execution_count": 20,
   "metadata": {},
   "outputs": [
    {
     "name": "stdout",
     "output_type": "stream",
     "text": [
      "True\n",
      "True\n",
      "False\n"
     ]
    }
   ],
   "source": [
    "# use of = operator\n",
    "a = 10\n",
    "# use of == operator\n",
    "print(a==10)\n",
    "b = a\n",
    "print(a == b)\n",
    "b = 20\n",
    "print(a == b)"
   ]
  },
  {
   "cell_type": "markdown",
   "metadata": {},
   "source": [
    "From above code cell we can see `=` operator is use to assign the data to variable and `==` is use to compare 2 veriable or compare veriavle data to value"
   ]
  },
  {
   "cell_type": "markdown",
   "metadata": {},
   "source": [
    "#### Q7) Identify the three blocks in this code:\n",
    "spam = 0  \n",
    "if spam == 10:  \n",
    "print(&#39;eggs&#39;)  \n",
    "if spam &gt; 5:  \n",
    "print(&#39;bacon&#39;)  \n",
    "else:  \n",
    "print(&#39;ham&#39;)  \n",
    "print(&#39;spam&#39;)  \n",
    "print(&#39;spam&#39;)  "
   ]
  },
  {
   "cell_type": "code",
   "execution_count": 21,
   "metadata": {},
   "outputs": [
    {
     "name": "stdout",
     "output_type": "stream",
     "text": [
      "ham\n",
      "spam\n",
      "spam\n"
     ]
    }
   ],
   "source": [
    "spam = 0\n",
    "if spam == 10:\n",
    "    # This is Block 1 in code\n",
    "    print(\"eggs\")\n",
    "if spam > 5:\n",
    "    # This is Block 2 in code\n",
    "    print(\"bacon\")\n",
    "else:\n",
    "    # This is Block 3 in code\n",
    "    print(\"ham\")\n",
    "    print(\"spam\")\n",
    "    print(\"spam\")"
   ]
  },
  {
   "cell_type": "markdown",
   "metadata": {},
   "source": [
    "#### Q8) Write code that prints Hello if 1 is stored in spam, prints Howdy if 2 is stored in spam, and prints Greetings! if anything else is stored in spam."
   ]
  },
  {
   "cell_type": "code",
   "execution_count": 22,
   "metadata": {},
   "outputs": [
    {
     "ename": "ValueError",
     "evalue": "invalid literal for int() with base 10: ''",
     "output_type": "error",
     "traceback": [
      "\u001b[0;31m---------------------------------------------------------------------------\u001b[0m",
      "\u001b[0;31mValueError\u001b[0m                                Traceback (most recent call last)",
      "\u001b[0;32m/tmp/ipykernel_24811/2933392530.py\u001b[0m in \u001b[0;36m<module>\u001b[0;34m\u001b[0m\n\u001b[0;32m----> 1\u001b[0;31m \u001b[0muser_data\u001b[0m \u001b[0;34m=\u001b[0m \u001b[0mint\u001b[0m\u001b[0;34m(\u001b[0m\u001b[0minput\u001b[0m\u001b[0;34m(\u001b[0m\u001b[0;34m\"Enter the Number\"\u001b[0m\u001b[0;34m)\u001b[0m\u001b[0;34m)\u001b[0m\u001b[0;34m\u001b[0m\u001b[0;34m\u001b[0m\u001b[0m\n\u001b[0m\u001b[1;32m      2\u001b[0m \u001b[0;32mif\u001b[0m \u001b[0muser_data\u001b[0m \u001b[0;34m==\u001b[0m \u001b[0;36m1\u001b[0m\u001b[0;34m:\u001b[0m\u001b[0;34m\u001b[0m\u001b[0;34m\u001b[0m\u001b[0m\n\u001b[1;32m      3\u001b[0m     \u001b[0mprint\u001b[0m\u001b[0;34m(\u001b[0m\u001b[0;34m\"Hello\"\u001b[0m\u001b[0;34m)\u001b[0m\u001b[0;34m\u001b[0m\u001b[0;34m\u001b[0m\u001b[0m\n\u001b[1;32m      4\u001b[0m \u001b[0;32melif\u001b[0m \u001b[0muser_data\u001b[0m \u001b[0;34m==\u001b[0m \u001b[0;36m2\u001b[0m\u001b[0;34m:\u001b[0m\u001b[0;34m\u001b[0m\u001b[0;34m\u001b[0m\u001b[0m\n\u001b[1;32m      5\u001b[0m     \u001b[0mprint\u001b[0m\u001b[0;34m(\u001b[0m\u001b[0;34m\"Howdy\"\u001b[0m\u001b[0;34m)\u001b[0m\u001b[0;34m\u001b[0m\u001b[0;34m\u001b[0m\u001b[0m\n",
      "\u001b[0;31mValueError\u001b[0m: invalid literal for int() with base 10: ''"
     ]
    }
   ],
   "source": [
    "user_data = int(input(\"Enter the Number\"))\n",
    "if user_data == 1:\n",
    "    print(\"Hello\")\n",
    "elif user_data == 2:\n",
    "    print(\"Howdy\")\n",
    "else:\n",
    "    print(\"Greetings!\")"
   ]
  },
  {
   "cell_type": "markdown",
   "metadata": {},
   "source": [
    "#### Q9) If your programme is stuck in an endless loop, what keys you’ll press?\n",
    "**Answer:** If Python code stuck in an endless loop we can use `Ctrl+c` keys to stop the code  \n",
    "this keys will create `KeyboardInterrupt` Exception"
   ]
  },
  {
   "cell_type": "markdown",
   "metadata": {},
   "source": [
    "#### Q10) How can you tell the difference between break and continue?\n",
    "**Answer:**  \n",
    "##### break:  \n",
    "* break is a reserved keyword in python, which we use for breaking the flow of the any loop when we call this keyword.\n",
    "* In next cell code we can see as i is equal to 5 break keyword in if runs and stop the for Loop"
   ]
  },
  {
   "cell_type": "code",
   "execution_count": 23,
   "metadata": {},
   "outputs": [
    {
     "name": "stdout",
     "output_type": "stream",
     "text": [
      "1\n",
      "2\n",
      "3\n",
      "4\n",
      "5\n"
     ]
    }
   ],
   "source": [
    "for i in range(1,11):\n",
    "    print(i)\n",
    "    if i == 5:\n",
    "        break"
   ]
  },
  {
   "cell_type": "markdown",
   "metadata": {},
   "source": [
    "##### continue\n",
    "* continue is a reserved keyword in python, which we use for jump to next iteration for the loop when we call this keyword.\n",
    "* In next cell code we can see as i is equal to 5 continue keyword in if runs and code skip the next instuctios and jump to next for loop iteration"
   ]
  },
  {
   "cell_type": "code",
   "execution_count": 24,
   "metadata": {},
   "outputs": [
    {
     "name": "stdout",
     "output_type": "stream",
     "text": [
      "1\n",
      "2\n",
      "3\n",
      "4\n",
      "6\n",
      "7\n",
      "8\n",
      "9\n",
      "10\n"
     ]
    }
   ],
   "source": [
    "for i in range(1,11):\n",
    "    if i == 5:\n",
    "        continue\n",
    "    print(i)"
   ]
  },
  {
   "cell_type": "markdown",
   "metadata": {},
   "source": [
    "#### Q11) In a for loop, what is the difference between range(10), range(0, 10), and range(0, 10, 1)?\n",
    "**Answer:**\n",
    "* As we can see in below their is no difference in `range(10)`,`range(0,10)` and `range(0,10,1)` in for loop.\n",
    "* But `range` function has diffrent paramerers we can use as per requirements like\n",
    "* In `range(10)` we are telling to iterate from 0 to 9 with start point = 0 which is Default \n",
    "* In `range(0,10)` we are telling to iterate from 0 to 9\n",
    "* In `range(0,10,1)`we are telling to iterate from 0 to 9 with inremental step 1"
   ]
  },
  {
   "cell_type": "code",
   "execution_count": 25,
   "metadata": {},
   "outputs": [
    {
     "name": "stdout",
     "output_type": "stream",
     "text": [
      "0 1 2 3 4 5 6 7 8 9 \n",
      "*************************************\n",
      "0 1 2 3 4 5 6 7 8 9 \n",
      "*************************************\n",
      "0 1 2 3 4 5 6 7 8 9 \n",
      "*************************************\n"
     ]
    }
   ],
   "source": [
    "for i in range(10):\n",
    "    print(i,end=\" \")\n",
    "print()\n",
    "print(\"*************************************\")\n",
    "for i in range(0,10):\n",
    "    print(i,end=\" \")\n",
    "print()\n",
    "print(\"*************************************\")\n",
    "for i in range(0,10,1):\n",
    "    print(i,end=\" \")\n",
    "print()\n",
    "print(\"*************************************\")"
   ]
  },
  {
   "cell_type": "markdown",
   "metadata": {},
   "source": [
    "#### Q12) Write a short program that prints the numbers 1 to 10 using a for loop. Then write an equivalent program that prints the numbers 1 to 10 using a while loop."
   ]
  },
  {
   "cell_type": "code",
   "execution_count": 26,
   "metadata": {},
   "outputs": [
    {
     "name": "stdout",
     "output_type": "stream",
     "text": [
      "1 2 3 4 5 6 7 8 9 10 "
     ]
    }
   ],
   "source": [
    "for i in range(1,11):\n",
    "    print(i,end=\" \")"
   ]
  },
  {
   "cell_type": "code",
   "execution_count": 27,
   "metadata": {},
   "outputs": [
    {
     "name": "stdout",
     "output_type": "stream",
     "text": [
      "1 2 3 4 5 6 7 8 9 10 "
     ]
    }
   ],
   "source": [
    "i = 1\n",
    "while i <= 10:\n",
    "    print(i,end=\" \")\n",
    "    i+=1"
   ]
  },
  {
   "cell_type": "markdown",
   "metadata": {},
   "source": [
    "#### Q13) If you had a function named bacon() inside a module named spam, how would you call it after importing spam?\n",
    "**Answer:** We can call bacon() using `spam.bacon()`"
   ]
  }
 ],
 "metadata": {
  "kernelspec": {
   "display_name": "Python 3.9.7 ('base')",
   "language": "python",
   "name": "python3"
  },
  "language_info": {
   "codemirror_mode": {
    "name": "ipython",
    "version": 3
   },
   "file_extension": ".py",
   "mimetype": "text/x-python",
   "name": "python",
   "nbconvert_exporter": "python",
   "pygments_lexer": "ipython3",
   "version": "3.9.7"
  },
  "orig_nbformat": 4,
  "vscode": {
   "interpreter": {
    "hash": "f7dd959b7247feddc79f089274c29efeef93ebd1badcdb854861350ab27e8282"
   }
  }
 },
 "nbformat": 4,
 "nbformat_minor": 2
}
